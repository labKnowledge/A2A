{
  "cells": [
    {
      "cell_type": "markdown",
      "metadata": {
        "id": "view-in-github",
        "colab_type": "text"
      },
      "source": [
        "<a href=\"https://colab.research.google.com/github/labKnowledge/A2A/blob/main/nb/Sesame_CSM_(1B)-TTS.ipynb\" target=\"_parent\"><img src=\"https://colab.research.google.com/assets/colab-badge.svg\" alt=\"Open In Colab\"/></a>"
      ]
    },
    {
      "cell_type": "markdown",
      "metadata": {
        "id": "WYRkVFOKC8N_"
      },
      "source": [
        "To run this, press \"*Runtime*\" and press \"*Run all*\" on a **free** Tesla T4 Google Colab instance!\n",
        "<div class=\"align-center\">\n",
        "<a href=\"https://unsloth.ai/\"><img src=\"https://github.com/unslothai/unsloth/raw/main/images/unsloth%20new%20logo.png\" width=\"115\"></a>\n",
        "<a href=\"https://discord.gg/unsloth\"><img src=\"https://github.com/unslothai/unsloth/raw/main/images/Discord button.png\" width=\"145\"></a>\n",
        "<a href=\"https://docs.unsloth.ai/\"><img src=\"https://github.com/unslothai/unsloth/blob/main/images/documentation%20green%20button.png?raw=true\" width=\"125\"></a></a> Join Discord if you need help + ⭐ <i>Star us on <a href=\"https://github.com/unslothai/unsloth\">Github</a> </i> ⭐\n",
        "</div>\n",
        "\n",
        "To install Unsloth on your own computer, follow the installation instructions on our Github page [here](https://docs.unsloth.ai/get-started/installing-+-updating).\n",
        "\n",
        "You will learn how to do [data prep](#Data), how to [train](#Train), how to [run the model](#Inference), & [how to save it](#Save)\n"
      ]
    },
    {
      "cell_type": "markdown",
      "metadata": {
        "id": "1pwulT_5C8OB"
      },
      "source": [
        "### News"
      ]
    },
    {
      "cell_type": "markdown",
      "metadata": {
        "id": "vqAsNCqCC8OB"
      },
      "source": [
        "Unsloth now supports Text-to-Speech (TTS) models. Read our [guide here](https://docs.unsloth.ai/basics/text-to-speech-tts-fine-tuning).\n",
        "\n",
        "Read our **[Qwen3 Guide](https://docs.unsloth.ai/basics/qwen3-how-to-run-and-fine-tune)** and check out our new **[Dynamic 2.0](https://docs.unsloth.ai/basics/unsloth-dynamic-2.0-ggufs)** quants which outperforms other quantization methods!\n",
        "\n",
        "Visit our docs for all our [model uploads](https://docs.unsloth.ai/get-started/all-our-models) and [notebooks](https://docs.unsloth.ai/get-started/unsloth-notebooks).\n"
      ]
    },
    {
      "cell_type": "markdown",
      "metadata": {
        "id": "D5Y8vWHEC8OC"
      },
      "source": [
        "### Installation"
      ]
    },
    {
      "cell_type": "code",
      "execution_count": null,
      "metadata": {
        "id": "rrXaaKWoC8OC"
      },
      "outputs": [],
      "source": [
        "%%capture\n",
        "import os\n",
        "if \"COLAB_\" not in \"\".join(os.environ.keys()):\n",
        "    !pip install unsloth\n",
        "else:\n",
        "    # Do this only in Colab notebooks! Otherwise use pip install unsloth\n",
        "    !pip install --no-deps bitsandbytes accelerate xformers==0.0.29.post3 peft trl triton cut_cross_entropy unsloth_zoo\n",
        "    !pip install sentencepiece protobuf \"datasets>=3.4.1\" huggingface_hub hf_transfer\n",
        "    !pip install --no-deps unsloth\n",
        "!pip install transformers==4.52.3"
      ]
    },
    {
      "cell_type": "markdown",
      "metadata": {
        "id": "A-LqUgufi7JU"
      },
      "source": [
        "### Unsloth\n",
        "\n",
        "`FastModel` supports loading nearly any model now! This includes Vision and Text models!"
      ]
    },
    {
      "cell_type": "code",
      "execution_count": null,
      "metadata": {
        "id": "k_R0oWSwi7JV"
      },
      "outputs": [],
      "source": [
        "from unsloth import FastModel\n",
        "from transformers import CsmForConditionalGeneration\n",
        "import torch\n",
        "\n",
        "model, processor = FastModel.from_pretrained(\n",
        "    model_name = \"unsloth/csm-1b\",\n",
        "    max_seq_length= 2048, # Choose any for long context!\n",
        "    dtype = None, # Leave as None for auto-detection\n",
        "    auto_model = CsmForConditionalGeneration,\n",
        "    load_in_4bit = False, # Select True for 4bit - reduces memory usage\n",
        ")"
      ]
    },
    {
      "cell_type": "markdown",
      "metadata": {
        "id": "DPTVeI9ni7JY"
      },
      "source": [
        "We now add LoRA adapters so we only need to update 1 to 10% of all parameters!"
      ]
    },
    {
      "cell_type": "code",
      "execution_count": null,
      "metadata": {
        "id": "_dk5azmwi7Jb"
      },
      "outputs": [],
      "source": [
        "model = FastModel.get_peft_model(\n",
        "    model,\n",
        "    r = 32, # Choose any number > 0 ! Suggested 8, 16, 32, 64, 128\n",
        "    target_modules = [\"q_proj\", \"k_proj\", \"v_proj\", \"o_proj\",\n",
        "                      \"gate_proj\", \"up_proj\", \"down_proj\",],\n",
        "    lora_alpha = 32,\n",
        "    lora_dropout = 0, # Supports any, but = 0 is optimized\n",
        "    bias = \"none\",    # Supports any, but = \"none\" is optimized\n",
        "    # [NEW] \"unsloth\" uses 30% less VRAM, fits 2x larger batch sizes!\n",
        "    use_gradient_checkpointing = \"unsloth\", # True or \"unsloth\" for very long context\n",
        "    random_state = 3407,\n",
        "    use_rslora = False,  # We support rank stabilized LoRA\n",
        "    loftq_config = None, # And LoftQ\n",
        ")"
      ]
    },
    {
      "cell_type": "markdown",
      "metadata": {
        "id": "cflyBsb9i7Je"
      },
      "source": [
        "<a name=\"Data\"></a>\n",
        "### Data Prep  \n",
        "\n",
        "We will use the `MrDragonFox/Elise`, which is designed for training TTS models. Ensure that your dataset follows the required format: **text, audio** for single-speaker models or **source, text, audio** for multi-speaker models. You can modify this section to accommodate your own dataset, but maintaining the correct structure is essential for optimal training."
      ]
    },
    {
      "cell_type": "code",
      "execution_count": null,
      "metadata": {
        "cellView": "form",
        "id": "QeCRvPI5i7Jh"
      },
      "outputs": [],
      "source": [
        "#@title Dataset Prep functions\n",
        "from datasets import load_dataset, Audio, Dataset\n",
        "import os\n",
        "from transformers import AutoProcessor\n",
        "processor = AutoProcessor.from_pretrained(\"unsloth/csm-1b\")\n",
        "\n",
        "raw_ds = load_dataset(\"MrDragonFox/Elise\", split=\"train\")\n",
        "\n",
        "# Getting the speaker id is important for multi-speaker models and speaker consistency\n",
        "speaker_key = \"source\"\n",
        "if \"source\" not in raw_ds.column_names and \"speaker_id\" not in raw_ds.column_names:\n",
        "    print(\"Unsloth: No speaker found, adding default \\\"source\\\" of 0 for all examples\")\n",
        "    new_column = [\"0\"] * len(raw_ds)\n",
        "    raw_ds = raw_ds.add_column(\"source\", new_column)\n",
        "elif \"source\" not in raw_ds.column_names and \"speaker_id\" in raw_ds.column_names:\n",
        "    speaker_key = \"speaker_id\"\n",
        "\n",
        "target_sampling_rate = 24000\n",
        "raw_ds = raw_ds.cast_column(\"audio\", Audio(sampling_rate=target_sampling_rate))\n",
        "\n",
        "def preprocess_example(example):\n",
        "    conversation = [\n",
        "        {\n",
        "            \"role\": str(example[speaker_key]),\n",
        "            \"content\": [\n",
        "                {\"type\": \"text\", \"text\": example[\"text\"]},\n",
        "                {\"type\": \"audio\", \"path\": example[\"audio\"][\"array\"]},\n",
        "            ],\n",
        "        }\n",
        "    ]\n",
        "\n",
        "    try:\n",
        "        model_inputs = processor.apply_chat_template(\n",
        "            conversation,\n",
        "            tokenize=True,\n",
        "            return_dict=True,\n",
        "            output_labels=True,\n",
        "            text_kwargs = {\n",
        "                \"padding\": \"max_length\", # pad to the max_length\n",
        "                \"max_length\": 256, # this should be the max length of audio\n",
        "                \"pad_to_multiple_of\": 8,\n",
        "                \"padding_side\": \"right\",\n",
        "            },\n",
        "            audio_kwargs = {\n",
        "                \"sampling_rate\": 24_000,\n",
        "                \"max_length\": 240001, # max input_values length of the whole dataset\n",
        "                \"padding\": \"max_length\",\n",
        "            },\n",
        "            common_kwargs = {\"return_tensors\": \"pt\"},\n",
        "        )\n",
        "    except Exception as e:\n",
        "        print(f\"Error processing example with text '{example['text'][:50]}...': {e}\")\n",
        "        return None\n",
        "\n",
        "    required_keys = [\"input_ids\", \"attention_mask\", \"labels\", \"input_values\", \"input_values_cutoffs\"]\n",
        "    processed_example = {}\n",
        "    # print(model_inputs.keys())\n",
        "    for key in required_keys:\n",
        "        if key not in model_inputs:\n",
        "            print(f\"Warning: Required key '{key}' not found in processor output for example.\")\n",
        "            return None\n",
        "\n",
        "        value = model_inputs[key][0]\n",
        "        processed_example[key] = value\n",
        "\n",
        "\n",
        "    # Final check (optional but good)\n",
        "    if not all(isinstance(processed_example[key], torch.Tensor) for key in processed_example):\n",
        "         print(f\"Error: Not all required keys are tensors in final processed example. Keys: {list(processed_example.keys())}\")\n",
        "         return None\n",
        "\n",
        "    return processed_example\n",
        "\n",
        "processed_ds = raw_ds.map(\n",
        "    preprocess_example,\n",
        "    remove_columns=raw_ds.column_names,\n",
        "    desc=\"Preprocessing dataset\",\n",
        ")"
      ]
    },
    {
      "cell_type": "markdown",
      "metadata": {
        "id": "zTIxxQqai7Jj"
      },
      "source": [
        "<a name=\"Train\"></a>\n",
        "### Train the model\n",
        "Now let's use Huggingface  `Trainer`! More docs here: [Transformers docs](https://huggingface.co/docs/transformers/main_classes/trainer). We do 60 steps to speed things up, but you can set `num_train_epochs=1` for a full run, and turn off `max_steps=None`."
      ]
    },
    {
      "cell_type": "code",
      "execution_count": null,
      "metadata": {
        "id": "G03LvbfOi7Jm"
      },
      "outputs": [],
      "source": [
        "from transformers import TrainingArguments, Trainer\n",
        "from unsloth import is_bfloat16_supported\n",
        "\n",
        "trainer = Trainer(\n",
        "    model = model,\n",
        "    train_dataset = processed_ds,\n",
        "    args = TrainingArguments(\n",
        "        per_device_train_batch_size = 2,\n",
        "        gradient_accumulation_steps = 4,\n",
        "        warmup_steps = 5,\n",
        "        max_steps = 60,\n",
        "        learning_rate = 2e-4,\n",
        "        fp16 = not is_bfloat16_supported(),\n",
        "        bf16 = is_bfloat16_supported(),\n",
        "        logging_steps = 1,\n",
        "        optim = \"adamw_8bit\",\n",
        "        weight_decay = 0.01, # Turn this on if overfitting\n",
        "        lr_scheduler_type = \"linear\",\n",
        "        seed = 3407,\n",
        "        output_dir = \"outputs\",\n",
        "        report_to = \"none\", # Use this for WandB etc\n",
        "    ),\n",
        ")"
      ]
    },
    {
      "cell_type": "code",
      "execution_count": null,
      "metadata": {
        "cellView": "form",
        "id": "-pEAe-cLi7Jo"
      },
      "outputs": [],
      "source": [
        "# @title Show current memory stats\n",
        "gpu_stats = torch.cuda.get_device_properties(0)\n",
        "start_gpu_memory = round(torch.cuda.max_memory_reserved() / 1024 / 1024 / 1024, 3)\n",
        "max_memory = round(gpu_stats.total_memory / 1024 / 1024 / 1024, 3)\n",
        "print(f\"GPU = {gpu_stats.name}. Max memory = {max_memory} GB.\")\n",
        "print(f\"{start_gpu_memory} GB of memory reserved.\")"
      ]
    },
    {
      "cell_type": "code",
      "execution_count": null,
      "metadata": {
        "id": "szZOUYHgi7Js"
      },
      "outputs": [],
      "source": [
        "trainer_stats = trainer.train()"
      ]
    },
    {
      "cell_type": "code",
      "execution_count": null,
      "metadata": {
        "cellView": "form",
        "id": "SjWdtI8zi7Jv"
      },
      "outputs": [],
      "source": [
        "# @title Show final memory and time stats\n",
        "used_memory = round(torch.cuda.max_memory_reserved() / 1024 / 1024 / 1024, 3)\n",
        "used_memory_for_lora = round(used_memory - start_gpu_memory, 3)\n",
        "used_percentage = round(used_memory / max_memory * 100, 3)\n",
        "lora_percentage = round(used_memory_for_lora / max_memory * 100, 3)\n",
        "print(f\"{trainer_stats.metrics['train_runtime']} seconds used for training.\")\n",
        "print(\n",
        "    f\"{round(trainer_stats.metrics['train_runtime']/60, 2)} minutes used for training.\"\n",
        ")\n",
        "print(f\"Peak reserved memory = {used_memory} GB.\")\n",
        "print(f\"Peak reserved memory for training = {used_memory_for_lora} GB.\")\n",
        "print(f\"Peak reserved memory % of max memory = {used_percentage} %.\")\n",
        "print(f\"Peak reserved memory for training % of max memory = {lora_percentage} %.\")"
      ]
    },
    {
      "cell_type": "markdown",
      "metadata": {
        "id": "JWCCkIXyi7Jy"
      },
      "source": [
        "<a name=\"Inference\"></a>\n",
        "### Inference\n",
        "Let's run the model! You can change the prompts"
      ]
    },
    {
      "cell_type": "code",
      "execution_count": null,
      "metadata": {
        "id": "E9oGaV6IC8OL"
      },
      "outputs": [],
      "source": [
        "from IPython.display import Audio, display\n",
        "import soundfile as sf\n",
        "\n",
        "text = \"We just finished fine tuning a text to speech model... and it's pretty good!\"\n",
        "speaker_id = 0\n",
        "inputs = processor(f\"[{speaker_id}]{text}\", add_special_tokens=True).to(\"cuda\")\n",
        "audio_values = model.generate(\n",
        "    **inputs,\n",
        "    max_new_tokens=125, # 125 tokens is 10 seconds of audio, for longer speech increase this\n",
        "    # play with these parameters to get the best results\n",
        "    depth_decoder_temperature=0.6,\n",
        "    depth_decoder_top_k=0,\n",
        "    depth_decoder_top_p=0.9,\n",
        "    temperature=0.8,\n",
        "    top_k=50,\n",
        "    top_p=1.0,\n",
        "    #########################################################\n",
        "    output_audio=True\n",
        ")\n",
        "audio = audio_values[0].to(torch.float32).cpu().numpy()\n",
        "sf.write(\"example_without_context.wav\", audio, 24000)\n",
        "display(Audio(audio, rate=24000))"
      ]
    },
    {
      "cell_type": "code",
      "execution_count": null,
      "metadata": {
        "id": "dIkXCtd_C8OL"
      },
      "outputs": [],
      "source": [
        "text = \"Sesame is a super cool TTS model which can be fine tuned with Unsloth.\"\n",
        "\n",
        "speaker_id = 0\n",
        "# Another equivalent way to prepare the inputs\n",
        "conversation = [\n",
        "    {\"role\": str(speaker_id), \"content\": [{\"type\": \"text\", \"text\": text}]},\n",
        "]\n",
        "audio_values = model.generate(\n",
        "    **processor.apply_chat_template(\n",
        "        conversation,\n",
        "        tokenize=True,\n",
        "        return_dict=True,\n",
        "    ).to(\"cuda\"),\n",
        "    max_new_tokens=125, # 125 tokens is 10 seconds of audio, for longer speech increase this\n",
        "    # play with these parameters to get the best results\n",
        "    depth_decoder_temperature=0.6,\n",
        "    depth_decoder_top_k=0,\n",
        "    depth_decoder_top_p=0.9,\n",
        "    temperature=0.8,\n",
        "    top_k=50,\n",
        "    top_p=1.0,\n",
        "    #########################################################\n",
        "    output_audio=True\n",
        ")\n",
        "audio = audio_values[0].to(torch.float32).cpu().numpy()\n",
        "sf.write(\"example_without_context.wav\", audio, 24000)\n",
        "display(Audio(audio, rate=24000))"
      ]
    },
    {
      "cell_type": "markdown",
      "metadata": {
        "id": "VuzPVKg0C8OM"
      },
      "source": [
        "#### Voice and style consistency\n",
        "\n",
        "Sesame CSM's power comes from providing audio context for each speaker. Let's pass a sample utterance from our dataset to ground speaker identity and style."
      ]
    },
    {
      "cell_type": "code",
      "execution_count": null,
      "metadata": {
        "id": "-u8MdqWKC8OM"
      },
      "outputs": [],
      "source": [
        "speaker_id = 0\n",
        "\n",
        "utterance = raw_ds[3][\"audio\"][\"array\"]\n",
        "utterance_text = raw_ds[3][\"text\"]\n",
        "text = \"Sesame is a super cool TTS model which can be fine tuned with Unsloth.\"\n",
        "\n",
        "# CSM will fill in the audio for the last text.\n",
        "# You can even provide a conversation history back in as you generate new audio\n",
        "\n",
        "conversation = [\n",
        "    {\"role\": str(speaker_id), \"content\": [{\"type\": \"text\", \"text\": utterance_text},{\"type\": \"audio\", \"path\": utterance}]},\n",
        "    {\"role\": str(speaker_id), \"content\": [{\"type\": \"text\", \"text\": text}]},\n",
        "]\n",
        "\n",
        "inputs = processor.apply_chat_template(\n",
        "        conversation,\n",
        "        tokenize=True,\n",
        "        return_dict=True,\n",
        "    )\n",
        "audio_values = model.generate(\n",
        "    **inputs.to(\"cuda\"),\n",
        "    max_new_tokens=125, # 125 tokens is 10 seconds of audio, for longer text increase this\n",
        "    # play with these parameters to get the best results\n",
        "    depth_decoder_temperature=0.6,\n",
        "    depth_decoder_top_k=0,\n",
        "    depth_decoder_top_p=0.9,\n",
        "    temperature=0.8,\n",
        "    top_k=50,\n",
        "    top_p=1.0,\n",
        "    #########################################################\n",
        "    output_audio=True\n",
        ")\n",
        "audio = audio_values[0].to(torch.float32).cpu().numpy()\n",
        "sf.write(\"example_with_context.wav\", audio, 24000)\n",
        "display(Audio(audio, rate=24000))"
      ]
    },
    {
      "cell_type": "markdown",
      "metadata": {
        "id": "OJIc7oYdi7J2"
      },
      "source": [
        "<a name=\"Save\"></a>\n",
        "### Saving, loading finetuned models\n",
        "To save the final model as LoRA adapters, either use Huggingface's `push_to_hub` for an online save or `save_pretrained` for a local save.\n",
        "\n",
        "**[NOTE]** This ONLY saves the LoRA adapters, and not the full model. To save to 16bit or GGUF, scroll down!"
      ]
    },
    {
      "cell_type": "code",
      "execution_count": null,
      "metadata": {
        "id": "RfyvxgUEi7J3"
      },
      "outputs": [],
      "source": [
        "model.save_pretrained(\"lora_model\")  # Local saving\n",
        "processor.save_pretrained(\"lora_model\")\n",
        "# model.push_to_hub(\"your_name/lora_model\", token = \"...\") # Online saving\n",
        "# processor.push_to_hub(\"your_name/lora_model\", token = \"...\") # Online saving"
      ]
    },
    {
      "cell_type": "markdown",
      "metadata": {
        "id": "eve_aZkli7J9"
      },
      "source": [
        "### Saving to float16\n",
        "\n",
        "We also support saving to `float16` directly. Select `merged_16bit` for float16 or `merged_4bit` for int4. We also allow `lora` adapters as a fallback. Use `push_to_hub_merged` to upload to your Hugging Face account! You can go to https://huggingface.co/settings/tokens for your personal tokens."
      ]
    },
    {
      "cell_type": "code",
      "execution_count": null,
      "metadata": {
        "id": "-bAEpXHHi7J-"
      },
      "outputs": [],
      "source": [
        "# Merge to 16bit\n",
        "if False: model.save_pretrained_merged(\"model\", tokenizer, save_method = \"merged_16bit\",)\n",
        "if False: model.push_to_hub_merged(\"hf/model\", tokenizer, save_method = \"merged_16bit\", token = \"\")\n",
        "\n",
        "# Merge to 4bit\n",
        "if False: model.save_pretrained_merged(\"model\", tokenizer, save_method = \"merged_4bit\",)\n",
        "if False: model.push_to_hub_merged(\"hf/model\", tokenizer, save_method = \"merged_4bit\", token = \"\")\n",
        "\n",
        "# Just LoRA adapters\n",
        "if False:\n",
        "    model.save_pretrained(\"model\")\n",
        "    tokenizer.save_pretrained(\"model\")\n",
        "if False:\n",
        "    model.push_to_hub(\"hf/model\", token = \"\")\n",
        "    tokenizer.push_to_hub(\"hf/model\", token = \"\")\n"
      ]
    },
    {
      "cell_type": "markdown",
      "metadata": {
        "id": "PNoM3yXPC8OO"
      },
      "source": [
        "And we're done! If you have any questions on Unsloth, we have a [Discord](https://discord.gg/unsloth) channel! If you find any bugs or want to keep updated with the latest LLM stuff, or need help, join projects etc, feel free to join our Discord!\n",
        "\n",
        "Some other links:\n",
        "1. Train your own reasoning model - Llama GRPO notebook [Free Colab](https://colab.research.google.com/github/unslothai/notebooks/blob/main/nb/Llama3.1_(8B)-GRPO.ipynb)\n",
        "2. Saving finetunes to Ollama. [Free notebook](https://colab.research.google.com/github/unslothai/notebooks/blob/main/nb/Llama3_(8B)-Ollama.ipynb)\n",
        "3. Llama 3.2 Vision finetuning - Radiography use case. [Free Colab](https://colab.research.google.com/github/unslothai/notebooks/blob/main/nb/Llama3.2_(11B)-Vision.ipynb)\n",
        "6. See notebooks for DPO, ORPO, Continued pretraining, conversational finetuning and more on our [documentation](https://docs.unsloth.ai/get-started/unsloth-notebooks)!\n",
        "\n",
        "<div class=\"align-center\">\n",
        "  <a href=\"https://unsloth.ai\"><img src=\"https://github.com/unslothai/unsloth/raw/main/images/unsloth%20new%20logo.png\" width=\"115\"></a>\n",
        "  <a href=\"https://discord.gg/unsloth\"><img src=\"https://github.com/unslothai/unsloth/raw/main/images/Discord.png\" width=\"145\"></a>\n",
        "  <a href=\"https://docs.unsloth.ai/\"><img src=\"https://github.com/unslothai/unsloth/blob/main/images/documentation%20green%20button.png?raw=true\" width=\"125\"></a>\n",
        "\n",
        "  Join Discord if you need help + ⭐️ <i>Star us on <a href=\"https://github.com/unslothai/unsloth\">Github</a> </i> ⭐️\n",
        "</div>\n"
      ]
    }
  ],
  "metadata": {
    "accelerator": "GPU",
    "colab": {
      "gpuType": "T4",
      "provenance": [],
      "include_colab_link": true
    },
    "kernelspec": {
      "display_name": "Python 3",
      "name": "python3"
    },
    "language_info": {
      "name": "python"
    }
  },
  "nbformat": 4,
  "nbformat_minor": 0
}